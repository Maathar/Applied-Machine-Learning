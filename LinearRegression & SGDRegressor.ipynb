{
 "cells": [
  {
   "cell_type": "markdown",
   "id": "7fcd1f88",
   "metadata": {},
   "source": [
    "# Linear Regression"
   ]
  },
  {
   "cell_type": "code",
   "execution_count": 12,
   "id": "e2c499ed",
   "metadata": {},
   "outputs": [],
   "source": [
    "# import libaries \n",
    "import numpy as np \n",
    "import pandas as pd \n",
    "import matplotlib.pyplot as plt \n",
    "import os\n",
    "from sklearn.model_selection import train_test_split\n",
    "from sklearn.linear_model import LinearRegression\n",
    "from sklearn import metrics"
   ]
  },
  {
   "cell_type": "code",
   "execution_count": 28,
   "id": "a216ee78",
   "metadata": {},
   "outputs": [],
   "source": [
    "df = pd.DataFrame({\n",
    "    \"Hoursofsunshine\": [2,3 ,5,7,9],\n",
    "    \"Icecreamsold\": [4, 5, 7,10,15]})"
   ]
  },
  {
   "cell_type": "code",
   "execution_count": 29,
   "id": "ae7a646e",
   "metadata": {},
   "outputs": [
    {
     "data": {
      "text/html": [
       "<div>\n",
       "<style scoped>\n",
       "    .dataframe tbody tr th:only-of-type {\n",
       "        vertical-align: middle;\n",
       "    }\n",
       "\n",
       "    .dataframe tbody tr th {\n",
       "        vertical-align: top;\n",
       "    }\n",
       "\n",
       "    .dataframe thead th {\n",
       "        text-align: right;\n",
       "    }\n",
       "</style>\n",
       "<table border=\"1\" class=\"dataframe\">\n",
       "  <thead>\n",
       "    <tr style=\"text-align: right;\">\n",
       "      <th></th>\n",
       "      <th>Hoursofsunshine</th>\n",
       "      <th>Icecreamsold</th>\n",
       "    </tr>\n",
       "  </thead>\n",
       "  <tbody>\n",
       "    <tr>\n",
       "      <th>0</th>\n",
       "      <td>2</td>\n",
       "      <td>4</td>\n",
       "    </tr>\n",
       "    <tr>\n",
       "      <th>1</th>\n",
       "      <td>3</td>\n",
       "      <td>5</td>\n",
       "    </tr>\n",
       "    <tr>\n",
       "      <th>2</th>\n",
       "      <td>5</td>\n",
       "      <td>7</td>\n",
       "    </tr>\n",
       "    <tr>\n",
       "      <th>3</th>\n",
       "      <td>7</td>\n",
       "      <td>10</td>\n",
       "    </tr>\n",
       "    <tr>\n",
       "      <th>4</th>\n",
       "      <td>9</td>\n",
       "      <td>15</td>\n",
       "    </tr>\n",
       "  </tbody>\n",
       "</table>\n",
       "</div>"
      ],
      "text/plain": [
       "   Hoursofsunshine  Icecreamsold\n",
       "0                2             4\n",
       "1                3             5\n",
       "2                5             7\n",
       "3                7            10\n",
       "4                9            15"
      ]
     },
     "execution_count": 29,
     "metadata": {},
     "output_type": "execute_result"
    }
   ],
   "source": [
    "df"
   ]
  },
  {
   "cell_type": "code",
   "execution_count": 30,
   "id": "61b3862e",
   "metadata": {},
   "outputs": [],
   "source": [
    "# set depandent and independant variable\n",
    "X = df[ \"Hoursofsunshine\"]\n",
    "y = df[ \"Icecreamsold\"]"
   ]
  },
  {
   "cell_type": "code",
   "execution_count": 31,
   "id": "e3ee1913",
   "metadata": {},
   "outputs": [
    {
     "data": {
      "text/plain": [
       "[<matplotlib.lines.Line2D at 0x13651d1e8b0>]"
      ]
     },
     "execution_count": 31,
     "metadata": {},
     "output_type": "execute_result"
    },
    {
     "data": {
      "image/png": "[encoded data removed]",
      "text/plain": [
       "<Figure size 640x480 with 1 Axes>"
      ]
     },
     "metadata": {},
     "output_type": "display_data"
    }
   ],
   "source": [
    "plt.plot(df.Hoursofsunshine  , df.Icecreamsold     ,'rx')"
   ]
  },
  {
   "cell_type": "code",
   "execution_count": 32,
   "id": "463c2818",
   "metadata": {},
   "outputs": [],
   "source": [
    "X_train, X_test, y_train, y_test = train_test_split(X, y, test_size=0.3, random_state=47)"
   ]
  },
  {
   "cell_type": "code",
   "execution_count": 33,
   "id": "00cc2ff0",
   "metadata": {},
   "outputs": [],
   "source": [
    "linear_regressor = LinearRegression()"
   ]
  },
  {
   "cell_type": "code",
   "execution_count": 34,
   "id": "d807267d",
   "metadata": {},
   "outputs": [],
   "source": [
    "X_train = X_train.values.reshape((-1, 1))\n",
    "y_train = y_train.values.reshape((-1, 1))"
   ]
  },
  {
   "cell_type": "code",
   "execution_count": 35,
   "id": "063dd980",
   "metadata": {},
   "outputs": [
    {
     "data": {
      "text/plain": [
       "LinearRegression()"
      ]
     },
     "execution_count": 35,
     "metadata": {},
     "output_type": "execute_result"
    }
   ],
   "source": [
    "linear_regressor.fit(X_train, y_train)"
   ]
  },
  {
   "cell_type": "code",
   "execution_count": 36,
   "id": "61794a8f",
   "metadata": {},
   "outputs": [
    {
     "data": {
      "text/plain": [
       "array([[1.5]])"
      ]
     },
     "execution_count": 36,
     "metadata": {},
     "output_type": "execute_result"
    }
   ],
   "source": [
    "linear_regressor.coef_"
   ]
  },
  {
   "cell_type": "code",
   "execution_count": 37,
   "id": "98624cfb",
   "metadata": {},
   "outputs": [
    {
     "data": {
      "text/plain": [
       "array([0.66666667])"
      ]
     },
     "execution_count": 37,
     "metadata": {},
     "output_type": "execute_result"
    }
   ],
   "source": [
    "linear_regressor.intercept_"
   ]
  },
  {
   "cell_type": "code",
   "execution_count": null,
   "id": "76cb9844",
   "metadata": {},
   "outputs": [],
   "source": [
    "# y = mX + b"
   ]
  },
  {
   "cell_type": "markdown",
   "id": "cc9eac83",
   "metadata": {},
   "source": [
    "# Linear Regression"
   ]
  },
  {
   "cell_type": "code",
   "execution_count": 38,
   "id": "cb9cfc69",
   "metadata": {},
   "outputs": [],
   "source": [
    "# import libaries \n",
    "import numpy as np \n",
    "from sklearn.linear_model import LinearRegression"
   ]
  },
  {
   "cell_type": "code",
   "execution_count": 39,
   "id": "6ef31677",
   "metadata": {},
   "outputs": [],
   "source": [
    "X = np.array ([2,3 ,5,7,9]) .reshape((-1, 1))\n",
    "y = np.array([4, 5, 7,10,15]).reshape((-1, 1))\n"
   ]
  },
  {
   "cell_type": "code",
   "execution_count": 40,
   "id": "9863c11e",
   "metadata": {},
   "outputs": [],
   "source": [
    "lr = LinearRegression()"
   ]
  },
  {
   "cell_type": "code",
   "execution_count": 41,
   "id": "d79ba41d",
   "metadata": {},
   "outputs": [
    {
     "data": {
      "text/plain": [
       "LinearRegression()"
      ]
     },
     "execution_count": 41,
     "metadata": {},
     "output_type": "execute_result"
    }
   ],
   "source": [
    "lr.fit(X,y)"
   ]
  },
  {
   "cell_type": "code",
   "execution_count": 44,
   "id": "ff684d15",
   "metadata": {},
   "outputs": [
    {
     "name": "stdout",
     "output_type": "stream",
     "text": [
      "[[1.51829268]] [0.30487805]\n"
     ]
    }
   ],
   "source": [
    "print(lr.coef_,lr.intercept_)"
   ]
  },
  {
   "cell_type": "markdown",
   "id": "3403cc21",
   "metadata": {},
   "source": [
    "# SGDRegressor"
   ]
  },
  {
   "cell_type": "code",
   "execution_count": 79,
   "id": "e8d49f9c",
   "metadata": {},
   "outputs": [],
   "source": [
    "# import libaries \n",
    "import numpy as np \n",
    "from sklearn.linear_model import SGDRegressor"
   ]
  },
  {
   "cell_type": "markdown",
   "id": "29be3ae5",
   "metadata": {},
   "source": [
    "#### numpy :  is a library for scientific computing.\n",
    "#### SGDRegressor : linear regression model that uses gradient descent to fit the model to the data."
   ]
  },
  {
   "cell_type": "code",
   "execution_count": 84,
   "id": "5d2166cd",
   "metadata": {},
   "outputs": [],
   "source": [
    "X = 2*np.random.rand(1000,1)\n",
    "y = 4 + 3 * X + np.random.rand(1000,1)  # to add some noise to the data\n",
    "y_clean=4 + 3 * X"
   ]
  },
  {
   "cell_type": "markdown",
   "id": "dd67175f",
   "metadata": {},
   "source": [
    "#### In x -- creates a 1000x1 array of random numbers between 0 and 1 and multiplies each random number by 2.\n",
    "#### In y-- creates a 1000x1 array of numbers that are equal to 4 plus 3 times the values in the X array, plus some random noise.\n",
    "#### In y_clean-- creates a new array that is equal to 4 plus 3 times the values in the X array. This array does not have any noise added to it."
   ]
  },
  {
   "cell_type": "code",
   "execution_count": 87,
   "id": "ac4009a5",
   "metadata": {},
   "outputs": [
    {
     "data": {
      "text/plain": [
       "SGDRegressor(eta0=0.09, max_iter=50)"
      ]
     },
     "execution_count": 87,
     "metadata": {},
     "output_type": "execute_result"
    }
   ],
   "source": [
    "GD_Model=SGDRegressor(max_iter=50 ,eta0=0.09)\n",
    "GD_Model.fit(X,y.squeeze())"
   ]
  },
  {
   "cell_type": "markdown",
   "id": "9c22e79c",
   "metadata": {},
   "source": [
    "#### creates an SGDRegressor model with a maximum of 50 iterations and a learning rate of 0.09. The SGDRegressor class is a linear regression model that uses stochastic gradient descent to fit the model to the data"
   ]
  },
  {
   "cell_type": "code",
   "execution_count": 88,
   "id": "17fea507",
   "metadata": {},
   "outputs": [],
   "source": [
    "y_hat=GD_Model.predict(X)"
   ]
  },
  {
   "cell_type": "markdown",
   "id": "ec521d00",
   "metadata": {},
   "source": [
    "#### predicts the output of the SGDRegressor model for the given data. The predict() method takes a 2D array of data as input and returns a 1D array of predictions. predict the values of the y array for the given values of the X array. The predicted values will be stored in the y_hat array."
   ]
  },
  {
   "cell_type": "code",
   "execution_count": 89,
   "id": "58e48d66",
   "metadata": {},
   "outputs": [
    {
     "name": "stdout",
     "output_type": "stream",
     "text": [
      "[3.01586333] [4.50299094]\n"
     ]
    }
   ],
   "source": [
    "print(GD_Model.coef_,GD_Model.intercept_)"
   ]
  },
  {
   "cell_type": "markdown",
   "id": "023bb542",
   "metadata": {},
   "source": [
    "#### prints the coefficients and intercept of the SGDRegressor model. The coef_ attribute of the SGDRegressor class is a 1D array that contains the coefficients of the model. "
   ]
  },
  {
   "cell_type": "code",
   "execution_count": null,
   "id": "df3a5e1d",
   "metadata": {},
   "outputs": [],
   "source": []
  }
 ],
 "metadata": {
  "kernelspec": {
   "display_name": "Python 3 (ipykernel)",
   "language": "python",
   "name": "python3"
  },
  "language_info": {
   "codemirror_mode": {
    "name": "ipython",
    "version": 3
   },
   "file_extension": ".py",
   "mimetype": "text/x-python",
   "name": "python",
   "nbconvert_exporter": "python",
   "pygments_lexer": "ipython3",
   "version": "3.9.13"
  }
 },
 "nbformat": 4,
 "nbformat_minor": 5
}
