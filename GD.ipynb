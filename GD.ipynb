{
 "cells": [
  {
   "cell_type": "markdown",
   "metadata": {},
   "source": [
    "# Gradient Decent Basics"
   ]
  },
  {
   "cell_type": "code",
   "execution_count": 1,
   "metadata": {},
   "outputs": [],
   "source": [
    "import numpy as np\n",
    "from sklearn.linear_model import LinearRegression\n",
    "from sklearn.linear_model import SGDRegressor\n",
    "from matplotlib import pyplot as plt\n",
    "from sklearn.metrics import mean_squared_error\n",
    "import pandas as pd"
   ]
  },
  {
   "cell_type": "markdown",
   "metadata": {},
   "source": [
    "#### numpy: A library for scientific computing.\n",
    "#### sklearn.linear_model: A library for linear regression models.\n",
    "#### SGDRegressor: A linear regression model that uses stochastic gradient descent.\n",
    "#### matplotlib: A library for plotting.\n",
    "#### mean_squared_error: A function that calculates the mean squared error.\n",
    "#### pandas: A library for data manipulation and analysis."
   ]
  },
  {
   "cell_type": "markdown",
   "metadata": {},
   "source": []
  },
  {
   "cell_type": "code",
   "execution_count": 2,
   "metadata": {},
   "outputs": [],
   "source": [
    "import warnings\n",
    "warnings.filterwarnings(\"ignore\")"
   ]
  },
  {
   "cell_type": "markdown",
   "metadata": {},
   "source": [
    "### The warnings library provides a way to manage warnings in Python. The filterwarnings() function allows you to specify how warnings should be handled.The ignore argument to the filterwarnings() function tells the warnings library to ignore the warning."
   ]
  },
  {
   "cell_type": "code",
   "execution_count": 3,
   "metadata": {},
   "outputs": [],
   "source": [
    "X = 2 * np.random.rand(10, 1)\n",
    "y = 4 + 3 * X "
   ]
  },
  {
   "cell_type": "markdown",
   "metadata": {},
   "source": [
    "### X = 2 * np.random.rand(1000, 1) creates array called X with 1000 rows and 1 column. The numbers in the array are random numbers from a uniform distribution between 0 and 1 and muliply by 2.\n",
    "###  y = 4 + 3 * X creates array called y with the same shape as the X array. The numbers in the y array are created by adding 4 to 3 times the numbers in the X array."
   ]
  },
  {
   "cell_type": "code",
   "execution_count": 4,
   "metadata": {},
   "outputs": [],
   "source": [
    "GD_model = SGDRegressor(max_iter=1, eta0=0.0001, warm_start=True)"
   ]
  },
  {
   "cell_type": "markdown",
   "metadata": {},
   "source": [
    "### creates a SGDRegressor model called GD_model with the following parameters: \n",
    "#### max_iter: The maximum number of iterations to run the algorithm.parameter is set to 1, which means that the algorithm will only go through the data once.\n",
    "#### eta0: The initial learning rate. eta0 parameter is set to 0.0001, which is a small learning rate.\n",
    "#### warm_start: Whether to use the previous model's weights as the starting point for the new model. warm_start parameter is set to True, which means that the previous model's weights will be used as the starting point for the new model."
   ]
  },
  {
   "cell_type": "code",
   "execution_count": null,
   "metadata": {},
   "outputs": [
    {
     "name": "stdout",
     "output_type": "stream",
     "text": [
      "[0, 0.003957194500765714, 0.0045222710606727685, 42.50375711822036]\n"
     ]
    }
   ],
   "source": [
    "out = []\n",
    "for i in range(10):\n",
    "    GD_model.fit(X, y,)\n",
    "    out.append([\n",
    "                i, GD_model.coef_[0], GD_model.intercept_[0], mean_squared_error(y, GD_model.predict(X))\n",
    "                ])\n",
    "    df = pd.DataFrame(out, columns=[\"itteration\", \"m\", \"b\", \"MSE\"])\n",
    "    print(out[-1])\n",
    "    input()"
   ]
  },
  {
   "cell_type": "markdown",
   "metadata": {},
   "source": []
  },
  {
   "cell_type": "code",
   "execution_count": null,
   "metadata": {},
   "outputs": [],
   "source": [
    "df"
   ]
  },
  {
   "cell_type": "code",
   "execution_count": null,
   "metadata": {},
   "outputs": [],
   "source": []
  }
 ],
 "metadata": {
  "kernelspec": {
   "display_name": "Python 3 (ipykernel)",
   "language": "python",
   "name": "python3"
  },
  "language_info": {
   "codemirror_mode": {
    "name": "ipython",
    "version": 3
   },
   "file_extension": ".py",
   "mimetype": "text/x-python",
   "name": "python",
   "nbconvert_exporter": "python",
   "pygments_lexer": "ipython3",
   "version": "3.9.13"
  }
 },
 "nbformat": 4,
 "nbformat_minor": 2
}
